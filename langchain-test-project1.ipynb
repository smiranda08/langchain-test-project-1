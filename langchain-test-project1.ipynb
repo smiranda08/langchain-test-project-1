{
 "cells": [
  {
   "cell_type": "markdown",
   "id": "1360f534-cd3e-4c39-8ac8-fde3ffe28557",
   "metadata": {},
   "source": [
    "# Querying a PDF file\n",
    "\n",
    "An small example of querying a PDF with Retrieval Augmented Generation using Langchain and Open AI API.\n",
    "The instructions were taken from the standard Langchain documentation at:\n",
    "- https://python.langchain.com/docs/use_cases/question_answering/quickstart/\n",
    "- https://python.langchain.com/docs/modules/data_connection/document_loaders/pdf/#using-pypdf\n",
    "\n",
    "Their example was modified here to query a PDF instead of a webpage.\n",
    "\n",
    "Notes: \n",
    "- To end the program, pass an empty string to the user prompt\n",
    "- The below dependencies need to be installed before this works."
   ]
  },
  {
   "cell_type": "code",
   "execution_count": 1,
   "id": "c3551f71-171e-48c1-a8dc-a4d666ea41d3",
   "metadata": {},
   "outputs": [
    {
     "name": "stdout",
     "output_type": "stream",
     "text": [
      "Note: you may need to restart the kernel to use updated packages.\n"
     ]
    }
   ],
   "source": [
    "%pip install --upgrade --quiet langchain langchain-community langchainhub langchain-openai langchain-chroma bs4 pypdf"
   ]
  },
  {
   "cell_type": "code",
   "execution_count": 2,
   "id": "a02b0845-67cd-4aab-ac4a-778f63d1aaea",
   "metadata": {},
   "outputs": [],
   "source": [
    "import os\n",
    "\n",
    "os.environ[\"OPENAI_API_KEY\"] = \"sk-proj-g5KqlpspBY8g2aXlu7YNT3BlbkFJZzhmCcun9A8cYu99NY84\"\n",
    "os.environ[\"LANGCHAIN_TRACING_V2\"] = \"true\"\n",
    "os.environ[\"LANGCHAIN_API_KEY\"] = \"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\"\n",
    "\n",
    "import bs4\n",
    "from langchain import hub\n",
    "from langchain_chroma import Chroma\n",
    "from langchain_core.output_parsers import StrOutputParser\n",
    "from langchain_core.runnables import RunnablePassthrough\n",
    "from langchain_openai import OpenAIEmbeddings\n",
    "from langchain_text_splitters import RecursiveCharacterTextSplitter\n",
    "\n",
    "from langchain_openai import ChatOpenAI\n",
    "llm = ChatOpenAI(model=\"gpt-3.5-turbo-0125\")"
   ]
  },
  {
   "cell_type": "code",
   "execution_count": 3,
   "id": "2295cc8b-fd99-44d7-b5c5-f1f80ea6b7aa",
   "metadata": {},
   "outputs": [],
   "source": [
    "from langchain_community.document_loaders import PyPDFLoader\n",
    "loader = PyPDFLoader(\"Wells and Choi - 2019 - Transcriptional Profiling of Stem Cells Moving fr.pdf\")\n",
    "docs = loader.load_and_split()"
   ]
  },
  {
   "cell_type": "code",
   "execution_count": 4,
   "id": "363575ed-3412-4a98-8bfe-9f0c19e796b9",
   "metadata": {},
   "outputs": [],
   "source": [
    "# Split text into smaller fragments\n",
    "text_splitter = RecursiveCharacterTextSplitter(chunk_size=1000, chunk_overlap=200)\n",
    "splits = text_splitter.split_documents(docs)\n",
    "vectorstore = Chroma.from_documents(documents=splits, embedding=OpenAIEmbeddings())"
   ]
  },
  {
   "cell_type": "code",
   "execution_count": 5,
   "id": "7b79d068-b245-4792-b4e3-147bf6e32f38",
   "metadata": {},
   "outputs": [],
   "source": [
    "# Retrieve and generate using the relevant snippets of the blog.\n",
    "retriever = vectorstore.as_retriever()\n",
    "prompt = hub.pull(\"rlm/rag-prompt\")"
   ]
  },
  {
   "cell_type": "code",
   "execution_count": 6,
   "id": "add3a030-1259-47a0-af2b-bfb41f00ee79",
   "metadata": {},
   "outputs": [],
   "source": [
    "def format_docs(docs):\n",
    "    return \"\\n\\n\".join(doc.page_content for doc in docs)\n",
    "rag_chain = (\n",
    "        {\"context\": retriever | format_docs, \"question\": RunnablePassthrough()}\n",
    "        | prompt\n",
    "        | llm\n",
    "        | StrOutputParser()\n",
    ")"
   ]
  },
  {
   "cell_type": "code",
   "execution_count": null,
   "id": "a83f68a8-d0f3-4891-adad-cd41bf115a6f",
   "metadata": {},
   "outputs": [],
   "source": []
  },
  {
   "cell_type": "code",
   "execution_count": 7,
   "id": "8a641c26-e8a3-4e79-95d4-1dcde43bdf3c",
   "metadata": {
    "scrolled": true
   },
   "outputs": [
    {
     "name": "stdin",
     "output_type": "stream",
     "text": [
      "How can I help you?\n",
      " How has mixOmics been used?\n"
     ]
    },
    {
     "name": "stdout",
     "output_type": "stream",
     "text": [
      "\n",
      "\n",
      "MixOmics has been used to benchmark stem-like properties of cells in various studies. The tool has been utilized to evaluate the similarities and differences between different cell types in stem cell research. Despite its widespread adoption, there are challenges in reproducibility and data interpretation that may require computational interventions.\n",
      "\n"
     ]
    },
    {
     "name": "stdin",
     "output_type": "stream",
     "text": [
      "How can I help you?\n",
      " Who are the authors of this pdf?\n"
     ]
    },
    {
     "name": "stdout",
     "output_type": "stream",
     "text": [
      "\n",
      "\n",
      "The authors of this pdf are C.A.W. and J.C. as they shared discussions, coauthored, and edited the manuscript.\n",
      "\n"
     ]
    },
    {
     "name": "stdin",
     "output_type": "stream",
     "text": [
      "How can I help you?\n",
      " What are the full names of the authors of this pdf?\n"
     ]
    },
    {
     "name": "stdout",
     "output_type": "stream",
     "text": [
      "\n",
      "\n",
      "The full names of the authors mentioned in the context are Wells, C.A., Mosbergen, R., Korn, O., Choi, J., Seidenman, N., Matigian, N.A., Vitale, A.M., and Shepherd, J. Unfortunately, the full names of the other authors mentioned in the context are not provided.\n",
      "\n"
     ]
    },
    {
     "name": "stdin",
     "output_type": "stream",
     "text": [
      "How can I help you?\n",
      " What email can we contact in this document?\n"
     ]
    },
    {
     "name": "stdout",
     "output_type": "stream",
     "text": [
      "\n",
      "\n",
      "The email contact information is not provided in the given context.\n",
      "\n"
     ]
    },
    {
     "name": "stdin",
     "output_type": "stream",
     "text": [
      "How can I help you?\n",
      " What correspondence contact is available from this document?\n"
     ]
    },
    {
     "name": "stdout",
     "output_type": "stream",
     "text": [
      "\n",
      "\n",
      "The document provides the DOI links for further information on the studies mentioned in the references. These links can be used for correspondence contact or to access the full texts of the articles. However, specific contact information for correspondence is not directly available within the document.\n",
      "\n"
     ]
    },
    {
     "name": "stdin",
     "output_type": "stream",
     "text": [
      "How can I help you?\n",
      " What are the DOI links?\n"
     ]
    },
    {
     "name": "stdout",
     "output_type": "stream",
     "text": [
      "\n",
      "\n",
      "DOI links are unique digital object identifiers that provide a permanent link to a specific online document. They are commonly used in academic research to ensure reliable access to scholarly articles or publications.\n",
      "\n"
     ]
    },
    {
     "name": "stdin",
     "output_type": "stream",
     "text": [
      "How can I help you?\n",
      " Please print the exact DOI links\n"
     ]
    },
    {
     "name": "stdout",
     "output_type": "stream",
     "text": [
      "\n",
      "\n",
      "I don't know.\n",
      "\n"
     ]
    },
    {
     "name": "stdin",
     "output_type": "stream",
     "text": [
      "How can I help you?\n",
      " What is molecular profiling?\n"
     ]
    },
    {
     "name": "stdout",
     "output_type": "stream",
     "text": [
      "\n",
      "\n",
      "Molecular profiling involves comparing in-vitro and in-vivo cells through transcriptional profiling to identify key drivers of cell types and predict cell fates. RNA sequencing is commonly used for molecular profiling due to its scalability and reliability in annotating gene expression. This approach provides insights into molecular heterogeneity, though sparse single-cell transcriptome data and data integration challenges need to be considered.\n",
      "\n"
     ]
    },
    {
     "name": "stdin",
     "output_type": "stream",
     "text": [
      "How can I help you?\n",
      " \n"
     ]
    }
   ],
   "source": [
    "# Prompt user for input until there is an empty string\n",
    "while True:\n",
    "    query = input(\"How can I help you?\\n\")\n",
    "    if query == '':\n",
    "        break\n",
    "\n",
    "    rag_chain.invoke(query)\n",
    "    print(\"\\n\")\n",
    "    for chunk in rag_chain.stream(query):\n",
    "        print(chunk, end=\"\", flush=True)\n",
    "    print(\"\\n\")"
   ]
  }
 ],
 "metadata": {
  "kernelspec": {
   "display_name": "Python 3 (ipykernel)",
   "language": "python",
   "name": "python3"
  },
  "language_info": {
   "codemirror_mode": {
    "name": "ipython",
    "version": 3
   },
   "file_extension": ".py",
   "mimetype": "text/x-python",
   "name": "python",
   "nbconvert_exporter": "python",
   "pygments_lexer": "ipython3",
   "version": "3.11.3"
  }
 },
 "nbformat": 4,
 "nbformat_minor": 5
}
