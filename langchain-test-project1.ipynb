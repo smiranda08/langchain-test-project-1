{
 "cells": [
  {
   "cell_type": "markdown",
   "id": "1360f534-cd3e-4c39-8ac8-fde3ffe28557",
   "metadata": {},
   "source": [
    "# Querying a PDF file\n",
    "\n",
    "An small example of querying a PDF with Retrieval Augmented Generation using Langchain and Open AI API.\n",
    "The instructions were taken from the standard Langchain documentation at:\n",
    "- https://python.langchain.com/docs/use_cases/question_answering/quickstart/\n",
    "- https://python.langchain.com/docs/modules/data_connection/document_loaders/pdf/#using-pypdf\n",
    "\n",
    "Their example was modified here to query a PDF instead of a webpage.\n",
    "\n",
    "Notes: \n",
    "- To end the program, pass an empty string to the user prompt\n",
    "- The below dependencies need to be installed before this works."
   ]
  },
  {
   "cell_type": "code",
   "execution_count": 1,
   "id": "c3551f71-171e-48c1-a8dc-a4d666ea41d3",
   "metadata": {},
   "outputs": [
    {
     "name": "stdout",
     "output_type": "stream",
     "text": [
      "Note: you may need to restart the kernel to use updated packages.\n"
     ]
    }
   ],
   "source": [
    "%pip install --upgrade --quiet langchain langchain-community langchainhub langchain-openai langchain-chroma bs4 pypdf"
   ]
  },
  {
   "cell_type": "code",
   "execution_count": 3,
   "id": "a02b0845-67cd-4aab-ac4a-778f63d1aaea",
   "metadata": {},
   "outputs": [],
   "source": [
    "import os\n",
    "\n",
    "os.environ[\"OPENAI_API_KEY\"] = \"<INSERT OPENAI API KEY HERE>\"\n",
    "os.environ[\"LANGCHAIN_TRACING_V2\"] = \"true\"\n",
    "os.environ[\"LANGCHAIN_API_KEY\"] = \"<INSERT LANGCHAIN API KEY HERE>\"\n",
    "\n",
    "import bs4\n",
    "from langchain import hub\n",
    "from langchain_chroma import Chroma\n",
    "from langchain_core.output_parsers import StrOutputParser\n",
    "from langchain_core.runnables import RunnablePassthrough\n",
    "from langchain_openai import OpenAIEmbeddings\n",
    "from langchain_text_splitters import RecursiveCharacterTextSplitter\n",
    "\n",
    "from langchain_openai import ChatOpenAI\n",
    "llm = ChatOpenAI(model=\"gpt-3.5-turbo-0125\")"
   ]
  },
  {
   "cell_type": "code",
   "execution_count": 4,
   "id": "2295cc8b-fd99-44d7-b5c5-f1f80ea6b7aa",
   "metadata": {},
   "outputs": [],
   "source": [
    "from langchain_community.document_loaders import PyPDFLoader\n",
    "loader = PyPDFLoader(\"Wells and Choi - 2019 - Transcriptional Profiling of Stem Cells Moving fr.pdf\")\n",
    "docs = loader.load_and_split()"
   ]
  },
  {
   "cell_type": "code",
   "execution_count": 5,
   "id": "363575ed-3412-4a98-8bfe-9f0c19e796b9",
   "metadata": {},
   "outputs": [],
   "source": [
    "# Split text into smaller fragments\n",
    "text_splitter = RecursiveCharacterTextSplitter(chunk_size=1000, chunk_overlap=200)\n",
    "splits = text_splitter.split_documents(docs)\n",
    "vectorstore = Chroma.from_documents(documents=splits, embedding=OpenAIEmbeddings())"
   ]
  },
  {
   "cell_type": "code",
   "execution_count": 6,
   "id": "7b79d068-b245-4792-b4e3-147bf6e32f38",
   "metadata": {},
   "outputs": [],
   "source": [
    "# Retrieve and generate using the relevant snippets of the blog.\n",
    "retriever = vectorstore.as_retriever()\n",
    "prompt = hub.pull(\"rlm/rag-prompt\")"
   ]
  },
  {
   "cell_type": "code",
   "execution_count": 7,
   "id": "add3a030-1259-47a0-af2b-bfb41f00ee79",
   "metadata": {},
   "outputs": [],
   "source": [
    "def format_docs(docs):\n",
    "    return \"\\n\\n\".join(doc.page_content for doc in docs)\n",
    "rag_chain = (\n",
    "        {\"context\": retriever | format_docs, \"question\": RunnablePassthrough()}\n",
    "        | prompt\n",
    "        | llm\n",
    "        | StrOutputParser()\n",
    ")"
   ]
  },
  {
   "cell_type": "code",
   "execution_count": null,
   "id": "4ced540e-7800-4432-9cdf-1540c5a5f76a",
   "metadata": {
    "scrolled": true
   },
   "outputs": [
    {
     "name": "stdin",
     "output_type": "stream",
     "text": [
      "How can I help you?\n",
      " What is transcriptional profiling?\n"
     ]
    },
    {
     "name": "stdout",
     "output_type": "stream",
     "text": [
      "\n",
      "Query: What is transcriptional profiling?\n",
      "Transcriptional profiling is a tool used to compare and analyze gene expression in stem cells and their progeny. It can be used to identify key transcriptional drivers of cell types and make predictions about cell fates. RNA sequencing is commonly used for transcriptional profiling due to its scalability and reliability.\n",
      "\n"
     ]
    },
    {
     "name": "stdin",
     "output_type": "stream",
     "text": [
      "How can I help you?\n",
      " What are the future opportunities and challenges?\n"
     ]
    },
    {
     "name": "stdout",
     "output_type": "stream",
     "text": [
      "\n",
      "Query: What are the future opportunities and challenges?\n",
      "Future opportunities in the stem cell field include improved data analysis methods, enhanced lineage tracing techniques, and the potential for new insights into cell differentiation and reprogramming. Challenges include technical issues related to single-cell sequencing, genetic confounding factors, and the need for improved data integration and analysis methodologies. Overall, advancements in technology and data integration will likely lead to a better understanding of cell identity, activation, and transitions in the future.\n",
      "\n"
     ]
    },
    {
     "name": "stdin",
     "output_type": "stream",
     "text": [
      "How can I help you?\n",
      " How will data integration methods change in the future?\n"
     ]
    },
    {
     "name": "stdout",
     "output_type": "stream",
     "text": [
      "\n",
      "Query: How will data integration methods change in the future?\n",
      "Data integration methods in the future are expected to rely more on exemplar atlases, improved data integration and comparison techniques, and move towards generalizable and reproducible observations. New methods for lineage tracing, integrated perturbation, chromatin profiling, and single-cell RNA sequencing will address molecular program questions in differentiation and reprogramming. Improvements in long-read sequencing will lead to better molecular resolution in stem cell pathways and data integration will increasingly use variable selection methodologies.\n",
      "\n"
     ]
    }
   ],
   "source": [
    "# Prompt user for input until there is an empty string\n",
    "while True:\n",
    "    query = input(\"How can I help you?\\n\")\n",
    "    if query == '':\n",
    "        break\n",
    "\n",
    "    rag_chain.invoke(query)\n",
    "    print(\"\\nQuery: \" + query)\n",
    "    for chunk in rag_chain.stream(query):\n",
    "        print(chunk, end=\"\", flush=True)\n",
    "    print(\"\\n\")"
   ]
  }
 ],
 "metadata": {
  "kernelspec": {
   "display_name": "Python 3 (ipykernel)",
   "language": "python",
   "name": "python3"
  },
  "language_info": {
   "codemirror_mode": {
    "name": "ipython",
    "version": 3
   },
   "file_extension": ".py",
   "mimetype": "text/x-python",
   "name": "python",
   "nbconvert_exporter": "python",
   "pygments_lexer": "ipython3",
   "version": "3.11.3"
  }
 },
 "nbformat": 4,
 "nbformat_minor": 5
}
